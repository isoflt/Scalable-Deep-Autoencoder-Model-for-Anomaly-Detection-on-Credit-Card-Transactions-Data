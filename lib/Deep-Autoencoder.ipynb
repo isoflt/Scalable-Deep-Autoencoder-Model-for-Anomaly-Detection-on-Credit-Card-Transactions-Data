{
 "cells": [
  {
   "cell_type": "markdown",
   "id": "13b25966",
   "metadata": {},
   "source": [
    "# Business Problem\n",
    "\n",
    "1. **Objective**\n",
    "   - To assess if a transaction is risky (in other words, fraudulent) from the given credit card data.\n",
    "   - Learn from various features of normal transactions to distinguish fraud transactions better.\n",
    "\n",
    "\n",
    "2. **Machine Learning Problem**\n",
    "   - Develop a machine learning model based on deep autoencoders to learn distribution and relation between features of normal transactions.\n",
    "\n",
    "\n",
    "3. **Technology**\n",
    "   - Python, Scikit-Learn, Tensorflow, Keras, Pandas, NumPy\n",
    "   \n",
    "\n",
    "4. **Decision making**\n",
    "   - Select the best model which performs the best with respecrt to a better mean squared error.\n",
    "   - Metrics: MSE\n",
    "   \n",
    "\n",
    "5. **Deployment**\n",
    "   - Deploy model in a scalable way so that business decisions can be taken in near real-time in assessing riskiness of a transacttion.\n",
    "\n",
    "\n",
    "\n",
    "**Features**<br>\n",
    "Timestamp<br>\n",
    "Value<br>\n",
    "C1<br>\n",
    "C2<br>\n",
    "C3<br>\n",
    "C4<br>\n",
    "C5<br>\n",
    "C6<br>\n",
    "C7<br>\n",
    "C8<br>\n",
    "C9<br>\n",
    "C10<br>\n",
    "C11<br>\n",
    "C12<br>\n",
    "Class<br>"
   ]
  },
  {
   "cell_type": "code",
   "execution_count": 1,
   "id": "3ad396a9",
   "metadata": {},
   "outputs": [],
   "source": [
    "import numpy as np\n",
    "import pandas as pd\n",
    "from sklearn.model_selection import train_test_split\n",
    "from tensorflow import keras\n",
    "from tensorflow.keras import layers"
   ]
  },
  {
   "cell_type": "code",
   "execution_count": 6,
   "id": "f7be603f",
   "metadata": {
    "scrolled": true
   },
   "outputs": [
    {
     "data": {
      "text/html": [
       "<div>\n",
       "<style scoped>\n",
       "    .dataframe tbody tr th:only-of-type {\n",
       "        vertical-align: middle;\n",
       "    }\n",
       "\n",
       "    .dataframe tbody tr th {\n",
       "        vertical-align: top;\n",
       "    }\n",
       "\n",
       "    .dataframe thead th {\n",
       "        text-align: right;\n",
       "    }\n",
       "</style>\n",
       "<table border=\"1\" class=\"dataframe\">\n",
       "  <thead>\n",
       "    <tr style=\"text-align: right;\">\n",
       "      <th></th>\n",
       "      <th>Timestamp</th>\n",
       "      <th>Value</th>\n",
       "      <th>C1</th>\n",
       "      <th>C2</th>\n",
       "      <th>C3</th>\n",
       "      <th>C4</th>\n",
       "      <th>C5</th>\n",
       "      <th>C6</th>\n",
       "      <th>C7</th>\n",
       "      <th>C8</th>\n",
       "      <th>C9</th>\n",
       "      <th>C10</th>\n",
       "      <th>C11</th>\n",
       "      <th>C12</th>\n",
       "      <th>Class</th>\n",
       "    </tr>\n",
       "  </thead>\n",
       "  <tbody>\n",
       "    <tr>\n",
       "      <th>0</th>\n",
       "      <td>152212.222222</td>\n",
       "      <td>1.816</td>\n",
       "      <td>13.245219</td>\n",
       "      <td>NaN</td>\n",
       "      <td>16.367516</td>\n",
       "      <td>0.029326</td>\n",
       "      <td>1.278423</td>\n",
       "      <td>2.748137</td>\n",
       "      <td>-1.331457</td>\n",
       "      <td>0.065879</td>\n",
       "      <td>-0.104518</td>\n",
       "      <td>-0.037517</td>\n",
       "      <td>-250.000000</td>\n",
       "      <td>-0.475633</td>\n",
       "      <td>0</td>\n",
       "    </tr>\n",
       "    <tr>\n",
       "      <th>1</th>\n",
       "      <td>159074.444444</td>\n",
       "      <td>163.568</td>\n",
       "      <td>4.401403</td>\n",
       "      <td>0.084682</td>\n",
       "      <td>-313.000000</td>\n",
       "      <td>0.001888</td>\n",
       "      <td>-0.103762</td>\n",
       "      <td>1.115678</td>\n",
       "      <td>NaN</td>\n",
       "      <td>0.062966</td>\n",
       "      <td>0.130546</td>\n",
       "      <td>-0.303582</td>\n",
       "      <td>NaN</td>\n",
       "      <td>NaN</td>\n",
       "      <td>0</td>\n",
       "    </tr>\n",
       "    <tr>\n",
       "      <th>2</th>\n",
       "      <td>43127.777778</td>\n",
       "      <td>24.000</td>\n",
       "      <td>-9.067399</td>\n",
       "      <td>0.762501</td>\n",
       "      <td>NaN</td>\n",
       "      <td>0.052481</td>\n",
       "      <td>-0.101681</td>\n",
       "      <td>-88.000000</td>\n",
       "      <td>0.117912</td>\n",
       "      <td>NaN</td>\n",
       "      <td>0.358812</td>\n",
       "      <td>-0.367016</td>\n",
       "      <td>NaN</td>\n",
       "      <td>361.000000</td>\n",
       "      <td>0</td>\n",
       "    </tr>\n",
       "    <tr>\n",
       "      <th>3</th>\n",
       "      <td>156042.222222</td>\n",
       "      <td>8.000</td>\n",
       "      <td>8.728304</td>\n",
       "      <td>-0.382673</td>\n",
       "      <td>NaN</td>\n",
       "      <td>-0.116056</td>\n",
       "      <td>-0.122346</td>\n",
       "      <td>-44.000000</td>\n",
       "      <td>-338.000000</td>\n",
       "      <td>0.042154</td>\n",
       "      <td>-0.261259</td>\n",
       "      <td>-0.103974</td>\n",
       "      <td>NaN</td>\n",
       "      <td>-1.654373</td>\n",
       "      <td>0</td>\n",
       "    </tr>\n",
       "    <tr>\n",
       "      <th>4</th>\n",
       "      <td>154720.000000</td>\n",
       "      <td>59.496</td>\n",
       "      <td>7.657141</td>\n",
       "      <td>0.150611</td>\n",
       "      <td>NaN</td>\n",
       "      <td>-0.034883</td>\n",
       "      <td>0.826100</td>\n",
       "      <td>0.357556</td>\n",
       "      <td>0.147640</td>\n",
       "      <td>NaN</td>\n",
       "      <td>0.080491</td>\n",
       "      <td>-0.693792</td>\n",
       "      <td>-0.308631</td>\n",
       "      <td>0.563570</td>\n",
       "      <td>0</td>\n",
       "    </tr>\n",
       "  </tbody>\n",
       "</table>\n",
       "</div>"
      ],
      "text/plain": [
       "       Timestamp    Value         C1        C2          C3        C4  \\\n",
       "0  152212.222222    1.816  13.245219       NaN   16.367516  0.029326   \n",
       "1  159074.444444  163.568   4.401403  0.084682 -313.000000  0.001888   \n",
       "2   43127.777778   24.000  -9.067399  0.762501         NaN  0.052481   \n",
       "3  156042.222222    8.000   8.728304 -0.382673         NaN -0.116056   \n",
       "4  154720.000000   59.496   7.657141  0.150611         NaN -0.034883   \n",
       "\n",
       "         C5         C6          C7        C8        C9       C10         C11  \\\n",
       "0  1.278423   2.748137   -1.331457  0.065879 -0.104518 -0.037517 -250.000000   \n",
       "1 -0.103762   1.115678         NaN  0.062966  0.130546 -0.303582         NaN   \n",
       "2 -0.101681 -88.000000    0.117912       NaN  0.358812 -0.367016         NaN   \n",
       "3 -0.122346 -44.000000 -338.000000  0.042154 -0.261259 -0.103974         NaN   \n",
       "4  0.826100   0.357556    0.147640       NaN  0.080491 -0.693792   -0.308631   \n",
       "\n",
       "          C12  Class  \n",
       "0   -0.475633      0  \n",
       "1         NaN      0  \n",
       "2  361.000000      0  \n",
       "3   -1.654373      0  \n",
       "4    0.563570      0  "
      ]
     },
     "execution_count": 6,
     "metadata": {},
     "output_type": "execute_result"
    }
   ],
   "source": [
    "pdf = pd.read_csv(\"../../data/final_cred_data.csv\", index_col=0)\n",
    "pdf.head()"
   ]
  },
  {
   "cell_type": "code",
   "execution_count": 7,
   "id": "3af4be78",
   "metadata": {},
   "outputs": [
    {
     "data": {
      "text/plain": [
       "<Axes: ylabel='Density'>"
      ]
     },
     "execution_count": 7,
     "metadata": {},
     "output_type": "execute_result"
    },
    {
     "data": {
      "image/png": "[encoded data removed]",
      "text/plain": [
       "<Figure size 640x480 with 1 Axes>"
      ]
     },
     "metadata": {},
     "output_type": "display_data"
    }
   ],
   "source": [
    "pdf['Timestamp'].plot.kde()"
   ]
  },
  {
   "cell_type": "code",
   "execution_count": 8,
   "id": "7b07190e",
   "metadata": {},
   "outputs": [
    {
     "data": {
      "text/plain": [
       "0    139747\n",
       "1       253\n",
       "Name: Class, dtype: int64"
      ]
     },
     "execution_count": 8,
     "metadata": {},
     "output_type": "execute_result"
    }
   ],
   "source": [
    "pdf.Class.value_counts()"
   ]
  },
  {
   "cell_type": "code",
   "execution_count": 9,
   "id": "77904fbd",
   "metadata": {},
   "outputs": [
    {
     "data": {
      "text/plain": [
       "Timestamp        0\n",
       "Value            0\n",
       "C1           23768\n",
       "C2           10269\n",
       "C3           10307\n",
       "C4               0\n",
       "C5           10322\n",
       "C6           23471\n",
       "C7           14405\n",
       "C8           10355\n",
       "C9               0\n",
       "C10          10109\n",
       "C11          14305\n",
       "C12          14167\n",
       "Class            0\n",
       "dtype: int64"
      ]
     },
     "execution_count": 9,
     "metadata": {},
     "output_type": "execute_result"
    }
   ],
   "source": [
    "pdf.isna().sum()"
   ]
  },
  {
   "cell_type": "code",
   "execution_count": 11,
   "id": "585a325f",
   "metadata": {},
   "outputs": [
    {
     "data": {
      "text/html": [
       "<div>\n",
       "<style scoped>\n",
       "    .dataframe tbody tr th:only-of-type {\n",
       "        vertical-align: middle;\n",
       "    }\n",
       "\n",
       "    .dataframe tbody tr th {\n",
       "        vertical-align: top;\n",
       "    }\n",
       "\n",
       "    .dataframe thead th {\n",
       "        text-align: right;\n",
       "    }\n",
       "</style>\n",
       "<table border=\"1\" class=\"dataframe\">\n",
       "  <thead>\n",
       "    <tr style=\"text-align: right;\">\n",
       "      <th></th>\n",
       "      <th>C1</th>\n",
       "    </tr>\n",
       "  </thead>\n",
       "  <tbody>\n",
       "    <tr>\n",
       "      <th>count</th>\n",
       "      <td>116232.000000</td>\n",
       "    </tr>\n",
       "    <tr>\n",
       "      <th>mean</th>\n",
       "      <td>-13.647954</td>\n",
       "    </tr>\n",
       "    <tr>\n",
       "      <th>std</th>\n",
       "      <td>224.599903</td>\n",
       "    </tr>\n",
       "    <tr>\n",
       "      <th>min</th>\n",
       "      <td>-2000.000000</td>\n",
       "    </tr>\n",
       "    <tr>\n",
       "      <th>25%</th>\n",
       "      <td>-6.419730</td>\n",
       "    </tr>\n",
       "    <tr>\n",
       "      <th>50%</th>\n",
       "      <td>-1.250014</td>\n",
       "    </tr>\n",
       "    <tr>\n",
       "      <th>75%</th>\n",
       "      <td>5.063801</td>\n",
       "    </tr>\n",
       "    <tr>\n",
       "      <th>max</th>\n",
       "      <td>2000.000000</td>\n",
       "    </tr>\n",
       "  </tbody>\n",
       "</table>\n",
       "</div>"
      ],
      "text/plain": [
       "                  C1\n",
       "count  116232.000000\n",
       "mean      -13.647954\n",
       "std       224.599903\n",
       "min     -2000.000000\n",
       "25%        -6.419730\n",
       "50%        -1.250014\n",
       "75%         5.063801\n",
       "max      2000.000000"
      ]
     },
     "execution_count": 11,
     "metadata": {},
     "output_type": "execute_result"
    }
   ],
   "source": [
    "pdf[['C1']].describe()"
   ]
  },
  {
   "cell_type": "code",
   "execution_count": 42,
   "id": "3b732ba7",
   "metadata": {},
   "outputs": [
    {
     "data": {
      "text/html": [
       "<div>\n",
       "<style scoped>\n",
       "    .dataframe tbody tr th:only-of-type {\n",
       "        vertical-align: middle;\n",
       "    }\n",
       "\n",
       "    .dataframe tbody tr th {\n",
       "        vertical-align: top;\n",
       "    }\n",
       "\n",
       "    .dataframe thead th {\n",
       "        text-align: right;\n",
       "    }\n",
       "</style>\n",
       "<table border=\"1\" class=\"dataframe\">\n",
       "  <thead>\n",
       "    <tr style=\"text-align: right;\">\n",
       "      <th></th>\n",
       "      <th>C2</th>\n",
       "    </tr>\n",
       "  </thead>\n",
       "  <tbody>\n",
       "    <tr>\n",
       "      <th>count</th>\n",
       "      <td>129731.000000</td>\n",
       "    </tr>\n",
       "    <tr>\n",
       "      <th>mean</th>\n",
       "      <td>-15.797094</td>\n",
       "    </tr>\n",
       "    <tr>\n",
       "      <th>std</th>\n",
       "      <td>72.631165</td>\n",
       "    </tr>\n",
       "    <tr>\n",
       "      <th>min</th>\n",
       "      <td>-500.000000</td>\n",
       "    </tr>\n",
       "    <tr>\n",
       "      <th>25%</th>\n",
       "      <td>-0.262951</td>\n",
       "    </tr>\n",
       "    <tr>\n",
       "      <th>50%</th>\n",
       "      <td>-0.019520</td>\n",
       "    </tr>\n",
       "    <tr>\n",
       "      <th>75%</th>\n",
       "      <td>0.220734</td>\n",
       "    </tr>\n",
       "    <tr>\n",
       "      <th>max</th>\n",
       "      <td>100.000000</td>\n",
       "    </tr>\n",
       "  </tbody>\n",
       "</table>\n",
       "</div>"
      ],
      "text/plain": [
       "                  C2\n",
       "count  129731.000000\n",
       "mean      -15.797094\n",
       "std        72.631165\n",
       "min      -500.000000\n",
       "25%        -0.262951\n",
       "50%        -0.019520\n",
       "75%         0.220734\n",
       "max       100.000000"
      ]
     },
     "execution_count": 42,
     "metadata": {},
     "output_type": "execute_result"
    }
   ],
   "source": [
    "pdf[['C2']].describe()"
   ]
  },
  {
   "cell_type": "code",
   "execution_count": 43,
   "id": "62cf601f",
   "metadata": {},
   "outputs": [
    {
     "data": {
      "image/png": "[encoded data removed]",
      "text/plain": [
       "<Figure size 432x288 with 1 Axes>"
      ]
     },
     "metadata": {
      "needs_background": "light"
     },
     "output_type": "display_data"
    },
    {
     "data": {
      "image/png": "[encoded data removed]",
      "text/plain": [
       "<Figure size 432x288 with 1 Axes>"
      ]
     },
     "metadata": {
      "needs_background": "light"
     },
     "output_type": "display_data"
    },
    {
     "data": {
      "image/png": "[encoded data removed]",
      "text/plain": [
       "<Figure size 432x288 with 1 Axes>"
      ]
     },
     "metadata": {
      "needs_background": "light"
     },
     "output_type": "display_data"
    },
    {
     "data": {
      "image/png": "[encoded data removed]",
      "text/plain": [
       "<Figure size 432x288 with 1 Axes>"
      ]
     },
     "metadata": {
      "needs_background": "light"
     },
     "output_type": "display_data"
    },
    {
     "data": {
      "image/png": "[encoded data removed]",
      "text/plain": [
       "<Figure size 432x288 with 1 Axes>"
      ]
     },
     "metadata": {
      "needs_background": "light"
     },
     "output_type": "display_data"
    },
    {
     "data": {
      "image/png": "[encoded data removed]",
      "text/plain": [
       "<Figure size 432x288 with 1 Axes>"
      ]
     },
     "metadata": {
      "needs_background": "light"
     },
     "output_type": "display_data"
    },
    {
     "data": {
      "image/png": "[encoded data removed]",
      "text/plain": [
       "<Figure size 432x288 with 1 Axes>"
      ]
     },
     "metadata": {
      "needs_background": "light"
     },
     "output_type": "display_data"
    },
    {
     "data": {
      "image/png": "[encoded data removed]",
      "text/plain": [
       "<Figure size 432x288 with 1 Axes>"
      ]
     },
     "metadata": {
      "needs_background": "light"
     },
     "output_type": "display_data"
    },
    {
     "data": {
      "image/png": "[encoded data removed]",
      "text/plain": [
       "<Figure size 432x288 with 1 Axes>"
      ]
     },
     "metadata": {
      "needs_background": "light"
     },
     "output_type": "display_data"
    },
    {
     "data": {
      "image/png": "[encoded data removed]",
      "text/plain": [
       "<Figure size 432x288 with 1 Axes>"
      ]
     },
     "metadata": {
      "needs_background": "light"
     },
     "output_type": "display_data"
    },
    {
     "data": {
      "image/png": "[encoded data removed]",
      "text/plain": [
       "<Figure size 432x288 with 1 Axes>"
      ]
     },
     "metadata": {
      "needs_background": "light"
     },
     "output_type": "display_data"
    },
    {
     "data": {
      "image/png": "[encoded data removed]",
      "text/plain": [
       "<Figure size 432x288 with 1 Axes>"
      ]
     },
     "metadata": {
      "needs_background": "light"
     },
     "output_type": "display_data"
    }
   ],
   "source": [
    "for elem in ['C1','C2','C3','C4', 'C5', 'C6', 'C7', 'C8', 'C9', 'C10', 'C11', 'C12']:\n",
    "    pdf[[elem]].plot.kde()"
   ]
  },
  {
   "cell_type": "code",
   "execution_count": 15,
   "id": "c07e6efb",
   "metadata": {},
   "outputs": [],
   "source": [
    "pdf = pdf.fillna(pdf.mean()).drop(\"Timestamp\", axis=1)"
   ]
  },
  {
   "cell_type": "code",
   "execution_count": 16,
   "id": "acc3fac9",
   "metadata": {},
   "outputs": [],
   "source": [
    "normalized_df=(pdf-pdf.min())/(pdf.max()-pdf.min())"
   ]
  },
  {
   "cell_type": "code",
   "execution_count": 17,
   "id": "1c1bb0cf",
   "metadata": {},
   "outputs": [],
   "source": [
    "train_x = normalized_df.drop(\"Class\", axis=1).values\n",
    "train_y = normalized_df.values"
   ]
  },
  {
   "cell_type": "code",
   "execution_count": 19,
   "id": "c056e4f8",
   "metadata": {},
   "outputs": [
    {
     "name": "stdout",
     "output_type": "stream",
     "text": [
      "(140000, 13) (140000, 14)\n"
     ]
    }
   ],
   "source": [
    "print(train_x.shape, train_y.shape)"
   ]
  },
  {
   "cell_type": "markdown",
   "id": "d875c570",
   "metadata": {},
   "source": [
    "# Modeling"
   ]
  },
  {
   "cell_type": "code",
   "execution_count": 12,
   "id": "d138c189",
   "metadata": {},
   "outputs": [],
   "source": [
    "model = keras.Sequential(\n",
    "                          [\n",
    "                            keras.Input(shape=(13, )),\n",
    "                            layers.Dense(13, activation=\"relu\"),\n",
    "                            layers.Dense(6, activation=\"relu\"),\n",
    "                            layers.Dense(6, activation=\"relu\"),\n",
    "                            layers.Dense(13, activation=\"linear\"),\n",
    "                          ]\n",
    "                        )\n",
    "optimizer = keras.optimizers.RMSprop(learning_rate=0.01)\n",
    "model.compile(loss=\"mse\", optimizer=optimizer)"
   ]
  },
  {
   "cell_type": "code",
   "execution_count": 20,
   "id": "0add8595",
   "metadata": {},
   "outputs": [
    {
     "name": "stdout",
     "output_type": "stream",
     "text": [
      "Epoch 1/20\n"
     ]
    },
    {
     "name": "stderr",
     "output_type": "stream",
     "text": [
      "2023-04-07 21:15:32.041124: W tensorflow/core/platform/profile_utils/cpu_utils.cc:128] Failed to get CPU frequency: 0 Hz\n"
     ]
    },
    {
     "name": "stdout",
     "output_type": "stream",
     "text": [
      "1094/1094 [==============================] - 1s 350us/step - loss: 0.0084\n",
      "Epoch 2/20\n",
      "1094/1094 [==============================] - 0s 332us/step - loss: 0.0031\n",
      "Epoch 3/20\n",
      "1094/1094 [==============================] - 0s 329us/step - loss: 0.0025\n",
      "Epoch 4/20\n",
      "1094/1094 [==============================] - 0s 332us/step - loss: 0.0024\n",
      "Epoch 5/20\n",
      "1094/1094 [==============================] - 0s 352us/step - loss: 0.0024\n",
      "Epoch 6/20\n",
      "1094/1094 [==============================] - 0s 334us/step - loss: 0.0024\n",
      "Epoch 7/20\n",
      "1094/1094 [==============================] - 0s 329us/step - loss: 0.0023\n",
      "Epoch 8/20\n",
      "1094/1094 [==============================] - 0s 333us/step - loss: 0.0023\n",
      "Epoch 9/20\n",
      "1094/1094 [==============================] - 0s 333us/step - loss: 0.0021\n",
      "Epoch 10/20\n",
      "1094/1094 [==============================] - 0s 333us/step - loss: 0.0019\n",
      "Epoch 11/20\n",
      "1094/1094 [==============================] - 0s 334us/step - loss: 0.0018\n",
      "Epoch 12/20\n",
      "1094/1094 [==============================] - 0s 330us/step - loss: 0.0018\n",
      "Epoch 13/20\n",
      "1094/1094 [==============================] - 0s 337us/step - loss: 0.0018\n",
      "Epoch 14/20\n",
      "1094/1094 [==============================] - 0s 357us/step - loss: 0.0018\n",
      "Epoch 15/20\n",
      "1094/1094 [==============================] - 0s 366us/step - loss: 0.0018\n",
      "Epoch 16/20\n",
      "1094/1094 [==============================] - 0s 359us/step - loss: 0.0018\n",
      "Epoch 17/20\n",
      "1094/1094 [==============================] - 0s 344us/step - loss: 0.0018\n",
      "Epoch 18/20\n",
      "1094/1094 [==============================] - 0s 339us/step - loss: 0.0018\n",
      "Epoch 19/20\n",
      "1094/1094 [==============================] - 0s 341us/step - loss: 0.0018\n",
      "Epoch 20/20\n",
      "1094/1094 [==============================] - 0s 347us/step - loss: 0.0017\n"
     ]
    },
    {
     "data": {
      "text/plain": [
       "<keras.callbacks.History at 0x28b9b3f70>"
      ]
     },
     "execution_count": 20,
     "metadata": {},
     "output_type": "execute_result"
    }
   ],
   "source": [
    "model.fit(train_x, train_x, batch_size=128, epochs=20)"
   ]
  },
  {
   "cell_type": "code",
   "execution_count": 21,
   "id": "9cea3f71",
   "metadata": {},
   "outputs": [
    {
     "name": "stdout",
     "output_type": "stream",
     "text": [
      "4375/4375 [==============================] - 1s 229us/step\n"
     ]
    }
   ],
   "source": [
    "predictions = model.predict(train_x)"
   ]
  },
  {
   "cell_type": "code",
   "execution_count": 22,
   "id": "c24072da",
   "metadata": {},
   "outputs": [
    {
     "name": "stdout",
     "output_type": "stream",
     "text": [
      "0.0017614522731278642\n"
     ]
    }
   ],
   "source": [
    "error = np.square(np.subtract(predictions, train_x)).mean(axis=1)\n",
    "print(np.square(np.subtract(predictions, train_x)).mean())"
   ]
  },
  {
   "cell_type": "code",
   "execution_count": 23,
   "id": "c154807d",
   "metadata": {},
   "outputs": [
    {
     "data": {
      "text/html": [
       "<div>\n",
       "<style scoped>\n",
       "    .dataframe tbody tr th:only-of-type {\n",
       "        vertical-align: middle;\n",
       "    }\n",
       "\n",
       "    .dataframe tbody tr th {\n",
       "        vertical-align: top;\n",
       "    }\n",
       "\n",
       "    .dataframe thead th {\n",
       "        text-align: right;\n",
       "    }\n",
       "</style>\n",
       "<table border=\"1\" class=\"dataframe\">\n",
       "  <thead>\n",
       "    <tr style=\"text-align: right;\">\n",
       "      <th></th>\n",
       "      <th>error</th>\n",
       "    </tr>\n",
       "  </thead>\n",
       "  <tbody>\n",
       "    <tr>\n",
       "      <th>0</th>\n",
       "      <td>0.000581</td>\n",
       "    </tr>\n",
       "    <tr>\n",
       "      <th>1</th>\n",
       "      <td>0.000509</td>\n",
       "    </tr>\n",
       "    <tr>\n",
       "      <th>2</th>\n",
       "      <td>0.001387</td>\n",
       "    </tr>\n",
       "    <tr>\n",
       "      <th>3</th>\n",
       "      <td>0.005699</td>\n",
       "    </tr>\n",
       "    <tr>\n",
       "      <th>4</th>\n",
       "      <td>0.000810</td>\n",
       "    </tr>\n",
       "  </tbody>\n",
       "</table>\n",
       "</div>"
      ],
      "text/plain": [
       "      error\n",
       "0  0.000581\n",
       "1  0.000509\n",
       "2  0.001387\n",
       "3  0.005699\n",
       "4  0.000810"
      ]
     },
     "execution_count": 23,
     "metadata": {},
     "output_type": "execute_result"
    }
   ],
   "source": [
    "pdf_error = pd.DataFrame(error, columns=[\"error\"])\n",
    "pdf_error.head()"
   ]
  },
  {
   "cell_type": "code",
   "execution_count": 24,
   "id": "87c78f69",
   "metadata": {},
   "outputs": [
    {
     "data": {
      "text/html": [
       "<div>\n",
       "<style scoped>\n",
       "    .dataframe tbody tr th:only-of-type {\n",
       "        vertical-align: middle;\n",
       "    }\n",
       "\n",
       "    .dataframe tbody tr th {\n",
       "        vertical-align: top;\n",
       "    }\n",
       "\n",
       "    .dataframe thead th {\n",
       "        text-align: right;\n",
       "    }\n",
       "</style>\n",
       "<table border=\"1\" class=\"dataframe\">\n",
       "  <thead>\n",
       "    <tr style=\"text-align: right;\">\n",
       "      <th></th>\n",
       "      <th>error</th>\n",
       "    </tr>\n",
       "  </thead>\n",
       "  <tbody>\n",
       "    <tr>\n",
       "      <th>count</th>\n",
       "      <td>140000.000000</td>\n",
       "    </tr>\n",
       "    <tr>\n",
       "      <th>mean</th>\n",
       "      <td>0.001761</td>\n",
       "    </tr>\n",
       "    <tr>\n",
       "      <th>std</th>\n",
       "      <td>0.003512</td>\n",
       "    </tr>\n",
       "    <tr>\n",
       "      <th>min</th>\n",
       "      <td>0.000024</td>\n",
       "    </tr>\n",
       "    <tr>\n",
       "      <th>25%</th>\n",
       "      <td>0.000291</td>\n",
       "    </tr>\n",
       "    <tr>\n",
       "      <th>50%</th>\n",
       "      <td>0.000594</td>\n",
       "    </tr>\n",
       "    <tr>\n",
       "      <th>75%</th>\n",
       "      <td>0.001297</td>\n",
       "    </tr>\n",
       "    <tr>\n",
       "      <th>max</th>\n",
       "      <td>0.113507</td>\n",
       "    </tr>\n",
       "  </tbody>\n",
       "</table>\n",
       "</div>"
      ],
      "text/plain": [
       "               error\n",
       "count  140000.000000\n",
       "mean        0.001761\n",
       "std         0.003512\n",
       "min         0.000024\n",
       "25%         0.000291\n",
       "50%         0.000594\n",
       "75%         0.001297\n",
       "max         0.113507"
      ]
     },
     "execution_count": 24,
     "metadata": {},
     "output_type": "execute_result"
    }
   ],
   "source": [
    "pdf_error.describe()"
   ]
  },
  {
   "cell_type": "code",
   "execution_count": 25,
   "id": "d39b6fc2",
   "metadata": {},
   "outputs": [],
   "source": [
    "final_df = pd.concat([pdf.reset_index(drop=True), pdf_error.reset_index(drop=True)], axis=1)"
   ]
  },
  {
   "cell_type": "code",
   "execution_count": 26,
   "id": "79aa196e",
   "metadata": {},
   "outputs": [
    {
     "data": {
      "text/plain": [
       "<Axes: ylabel='Density'>"
      ]
     },
     "execution_count": 26,
     "metadata": {},
     "output_type": "execute_result"
    },
    {
     "data": {
      "image/png": "[encoded data removed]",
      "text/plain": [
       "<Figure size 640x480 with 1 Axes>"
      ]
     },
     "metadata": {},
     "output_type": "display_data"
    }
   ],
   "source": [
    "final_df[final_df.Class==1].error.plot.kde()"
   ]
  },
  {
   "cell_type": "code",
   "execution_count": 27,
   "id": "71f5220c",
   "metadata": {},
   "outputs": [
    {
     "data": {
      "text/plain": [
       "<Axes: ylabel='Density'>"
      ]
     },
     "execution_count": 27,
     "metadata": {},
     "output_type": "execute_result"
    },
    {
     "data": {
      "image/png": "[encoded data removed]",
      "text/plain": [
       "<Figure size 640x480 with 1 Axes>"
      ]
     },
     "metadata": {},
     "output_type": "display_data"
    }
   ],
   "source": [
    "final_df[final_df.Class==0].error.plot.kde()"
   ]
  },
  {
   "cell_type": "code",
   "execution_count": 28,
   "id": "2ec74364",
   "metadata": {
    "scrolled": true
   },
   "outputs": [
    {
     "data": {
      "text/html": [
       "<div>\n",
       "<style scoped>\n",
       "    .dataframe tbody tr th:only-of-type {\n",
       "        vertical-align: middle;\n",
       "    }\n",
       "\n",
       "    .dataframe tbody tr th {\n",
       "        vertical-align: top;\n",
       "    }\n",
       "\n",
       "    .dataframe thead th {\n",
       "        text-align: right;\n",
       "    }\n",
       "</style>\n",
       "<table border=\"1\" class=\"dataframe\">\n",
       "  <thead>\n",
       "    <tr style=\"text-align: right;\">\n",
       "      <th></th>\n",
       "      <th>Value</th>\n",
       "      <th>C1</th>\n",
       "      <th>C2</th>\n",
       "      <th>C3</th>\n",
       "      <th>C4</th>\n",
       "      <th>C5</th>\n",
       "      <th>C6</th>\n",
       "      <th>C7</th>\n",
       "      <th>C8</th>\n",
       "      <th>C9</th>\n",
       "      <th>C10</th>\n",
       "      <th>C11</th>\n",
       "      <th>C12</th>\n",
       "      <th>Class</th>\n",
       "      <th>error</th>\n",
       "    </tr>\n",
       "  </thead>\n",
       "  <tbody>\n",
       "    <tr>\n",
       "      <th>0</th>\n",
       "      <td>1.816</td>\n",
       "      <td>13.245219</td>\n",
       "      <td>-15.797094</td>\n",
       "      <td>16.367516</td>\n",
       "      <td>0.029326</td>\n",
       "      <td>1.278423</td>\n",
       "      <td>2.748137</td>\n",
       "      <td>-1.331457</td>\n",
       "      <td>0.065879</td>\n",
       "      <td>-0.104518</td>\n",
       "      <td>-0.037517</td>\n",
       "      <td>-250.000000</td>\n",
       "      <td>-0.475633</td>\n",
       "      <td>0</td>\n",
       "      <td>0.000581</td>\n",
       "    </tr>\n",
       "    <tr>\n",
       "      <th>1</th>\n",
       "      <td>163.568</td>\n",
       "      <td>4.401403</td>\n",
       "      <td>0.084682</td>\n",
       "      <td>-313.000000</td>\n",
       "      <td>0.001888</td>\n",
       "      <td>-0.103762</td>\n",
       "      <td>1.115678</td>\n",
       "      <td>-14.760374</td>\n",
       "      <td>0.062966</td>\n",
       "      <td>0.130546</td>\n",
       "      <td>-0.303582</td>\n",
       "      <td>-15.500080</td>\n",
       "      <td>-15.491673</td>\n",
       "      <td>0</td>\n",
       "      <td>0.000509</td>\n",
       "    </tr>\n",
       "    <tr>\n",
       "      <th>2</th>\n",
       "      <td>24.000</td>\n",
       "      <td>-9.067399</td>\n",
       "      <td>0.762501</td>\n",
       "      <td>-16.141105</td>\n",
       "      <td>0.052481</td>\n",
       "      <td>-0.101681</td>\n",
       "      <td>-88.000000</td>\n",
       "      <td>0.117912</td>\n",
       "      <td>-16.067148</td>\n",
       "      <td>0.358812</td>\n",
       "      <td>-0.367016</td>\n",
       "      <td>-15.500080</td>\n",
       "      <td>361.000000</td>\n",
       "      <td>0</td>\n",
       "      <td>0.001387</td>\n",
       "    </tr>\n",
       "    <tr>\n",
       "      <th>3</th>\n",
       "      <td>8.000</td>\n",
       "      <td>8.728304</td>\n",
       "      <td>-0.382673</td>\n",
       "      <td>-16.141105</td>\n",
       "      <td>-0.116056</td>\n",
       "      <td>-0.122346</td>\n",
       "      <td>-44.000000</td>\n",
       "      <td>-338.000000</td>\n",
       "      <td>0.042154</td>\n",
       "      <td>-0.261259</td>\n",
       "      <td>-0.103974</td>\n",
       "      <td>-15.500080</td>\n",
       "      <td>-1.654373</td>\n",
       "      <td>0</td>\n",
       "      <td>0.005699</td>\n",
       "    </tr>\n",
       "    <tr>\n",
       "      <th>4</th>\n",
       "      <td>59.496</td>\n",
       "      <td>7.657141</td>\n",
       "      <td>0.150611</td>\n",
       "      <td>-16.141105</td>\n",
       "      <td>-0.034883</td>\n",
       "      <td>0.826100</td>\n",
       "      <td>0.357556</td>\n",
       "      <td>0.147640</td>\n",
       "      <td>-16.067148</td>\n",
       "      <td>0.080491</td>\n",
       "      <td>-0.693792</td>\n",
       "      <td>-0.308631</td>\n",
       "      <td>0.563570</td>\n",
       "      <td>0</td>\n",
       "      <td>0.000810</td>\n",
       "    </tr>\n",
       "    <tr>\n",
       "      <th>5</th>\n",
       "      <td>7.192</td>\n",
       "      <td>-6.944700</td>\n",
       "      <td>-0.136388</td>\n",
       "      <td>0.543172</td>\n",
       "      <td>-0.024708</td>\n",
       "      <td>0.112116</td>\n",
       "      <td>1.647884</td>\n",
       "      <td>-0.003729</td>\n",
       "      <td>0.039702</td>\n",
       "      <td>0.097664</td>\n",
       "      <td>-0.341836</td>\n",
       "      <td>-274.000000</td>\n",
       "      <td>-0.056484</td>\n",
       "      <td>0</td>\n",
       "      <td>0.000718</td>\n",
       "    </tr>\n",
       "    <tr>\n",
       "      <th>6</th>\n",
       "      <td>10.320</td>\n",
       "      <td>133.000000</td>\n",
       "      <td>-0.540177</td>\n",
       "      <td>8.803812</td>\n",
       "      <td>-0.007307</td>\n",
       "      <td>-67.000000</td>\n",
       "      <td>1.709944</td>\n",
       "      <td>-0.316351</td>\n",
       "      <td>-0.003741</td>\n",
       "      <td>0.187718</td>\n",
       "      <td>-16.029764</td>\n",
       "      <td>0.338621</td>\n",
       "      <td>0.227839</td>\n",
       "      <td>0</td>\n",
       "      <td>0.000332</td>\n",
       "    </tr>\n",
       "    <tr>\n",
       "      <th>7</th>\n",
       "      <td>1.584</td>\n",
       "      <td>-0.670264</td>\n",
       "      <td>-0.164626</td>\n",
       "      <td>-8.848897</td>\n",
       "      <td>0.002278</td>\n",
       "      <td>0.078981</td>\n",
       "      <td>1.143923</td>\n",
       "      <td>-472.000000</td>\n",
       "      <td>0.010555</td>\n",
       "      <td>0.065275</td>\n",
       "      <td>0.029735</td>\n",
       "      <td>-0.396261</td>\n",
       "      <td>-0.182626</td>\n",
       "      <td>0</td>\n",
       "      <td>0.000910</td>\n",
       "    </tr>\n",
       "    <tr>\n",
       "      <th>8</th>\n",
       "      <td>100.000</td>\n",
       "      <td>1.984216</td>\n",
       "      <td>0.416604</td>\n",
       "      <td>-178.000000</td>\n",
       "      <td>-0.003641</td>\n",
       "      <td>53.000000</td>\n",
       "      <td>-13.681959</td>\n",
       "      <td>0.109451</td>\n",
       "      <td>0.022316</td>\n",
       "      <td>-0.039217</td>\n",
       "      <td>0.438853</td>\n",
       "      <td>-0.184313</td>\n",
       "      <td>0.643273</td>\n",
       "      <td>0</td>\n",
       "      <td>0.001210</td>\n",
       "    </tr>\n",
       "    <tr>\n",
       "      <th>9</th>\n",
       "      <td>0.712</td>\n",
       "      <td>5.857276</td>\n",
       "      <td>-0.073466</td>\n",
       "      <td>0.667938</td>\n",
       "      <td>-0.000891</td>\n",
       "      <td>-0.012069</td>\n",
       "      <td>1.427191</td>\n",
       "      <td>-101.000000</td>\n",
       "      <td>-0.038324</td>\n",
       "      <td>0.014183</td>\n",
       "      <td>-0.109039</td>\n",
       "      <td>0.420946</td>\n",
       "      <td>-61.000000</td>\n",
       "      <td>0</td>\n",
       "      <td>0.000157</td>\n",
       "    </tr>\n",
       "  </tbody>\n",
       "</table>\n",
       "</div>"
      ],
      "text/plain": [
       "     Value          C1         C2          C3        C4         C5         C6  \\\n",
       "0    1.816   13.245219 -15.797094   16.367516  0.029326   1.278423   2.748137   \n",
       "1  163.568    4.401403   0.084682 -313.000000  0.001888  -0.103762   1.115678   \n",
       "2   24.000   -9.067399   0.762501  -16.141105  0.052481  -0.101681 -88.000000   \n",
       "3    8.000    8.728304  -0.382673  -16.141105 -0.116056  -0.122346 -44.000000   \n",
       "4   59.496    7.657141   0.150611  -16.141105 -0.034883   0.826100   0.357556   \n",
       "5    7.192   -6.944700  -0.136388    0.543172 -0.024708   0.112116   1.647884   \n",
       "6   10.320  133.000000  -0.540177    8.803812 -0.007307 -67.000000   1.709944   \n",
       "7    1.584   -0.670264  -0.164626   -8.848897  0.002278   0.078981   1.143923   \n",
       "8  100.000    1.984216   0.416604 -178.000000 -0.003641  53.000000 -13.681959   \n",
       "9    0.712    5.857276  -0.073466    0.667938 -0.000891  -0.012069   1.427191   \n",
       "\n",
       "           C7         C8        C9        C10         C11         C12  Class  \\\n",
       "0   -1.331457   0.065879 -0.104518  -0.037517 -250.000000   -0.475633      0   \n",
       "1  -14.760374   0.062966  0.130546  -0.303582  -15.500080  -15.491673      0   \n",
       "2    0.117912 -16.067148  0.358812  -0.367016  -15.500080  361.000000      0   \n",
       "3 -338.000000   0.042154 -0.261259  -0.103974  -15.500080   -1.654373      0   \n",
       "4    0.147640 -16.067148  0.080491  -0.693792   -0.308631    0.563570      0   \n",
       "5   -0.003729   0.039702  0.097664  -0.341836 -274.000000   -0.056484      0   \n",
       "6   -0.316351  -0.003741  0.187718 -16.029764    0.338621    0.227839      0   \n",
       "7 -472.000000   0.010555  0.065275   0.029735   -0.396261   -0.182626      0   \n",
       "8    0.109451   0.022316 -0.039217   0.438853   -0.184313    0.643273      0   \n",
       "9 -101.000000  -0.038324  0.014183  -0.109039    0.420946  -61.000000      0   \n",
       "\n",
       "      error  \n",
       "0  0.000581  \n",
       "1  0.000509  \n",
       "2  0.001387  \n",
       "3  0.005699  \n",
       "4  0.000810  \n",
       "5  0.000718  \n",
       "6  0.000332  \n",
       "7  0.000910  \n",
       "8  0.001210  \n",
       "9  0.000157  "
      ]
     },
     "execution_count": 28,
     "metadata": {},
     "output_type": "execute_result"
    }
   ],
   "source": [
    "final_df[final_df.Class==0].head(10)"
   ]
  }
 ],
 "metadata": {
  "kernelspec": {
   "display_name": "Python 3 (ipykernel)",
   "language": "python",
   "name": "python3"
  },
  "language_info": {
   "codemirror_mode": {
    "name": "ipython",
    "version": 3
   },
   "file_extension": ".py",
   "mimetype": "text/x-python",
   "name": "python",
   "nbconvert_exporter": "python",
   "pygments_lexer": "ipython3",
   "version": "3.10.9"
  }
 },
 "nbformat": 4,
 "nbformat_minor": 5
}
